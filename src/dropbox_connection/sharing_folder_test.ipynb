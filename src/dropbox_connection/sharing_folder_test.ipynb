{
 "cells": [
  {
   "cell_type": "code",
   "execution_count": 1,
   "id": "9d97e628-2614-43f9-b0cb-e371bc5b6970",
   "metadata": {},
   "outputs": [
    {
     "name": "stdout",
     "output_type": "stream",
     "text": [
      "Initializing the User Profile...\n",
      "Importing profile /Users/james/Documents/Repos/User-Profile/Users/james.py...\n",
      "\n",
      "----------------\n",
      "hi James\n",
      "----------------\n",
      "\n",
      "User Profile has been initialized.\n"
     ]
    }
   ],
   "source": [
    "import user_profile_import\n",
    "user_profile = user_profile_import.init()\n",
    "\n",
    "###\n",
    "import py_starter as ps\n",
    "import dir_ops as do\n",
    "import importlib\n",
    "###\n",
    "import dropbox_support_functions as dbsf\n",
    "import dropbox_creds\n",
    "import dropbox\n"
   ]
  },
  {
   "cell_type": "code",
   "execution_count": 2,
   "id": "9a060b14-54c3-465f-b8e5-71ab8fa1656d",
   "metadata": {},
   "outputs": [
    {
     "data": {
      "text/plain": [
       "<module 'dropbox_support_functions' from '/Users/james/Documents/Repos/Dropbox-Support/dropbox_support_functions.py'>"
      ]
     },
     "execution_count": 2,
     "metadata": {},
     "output_type": "execute_result"
    }
   ],
   "source": [
    "importlib.reload( dbsf )"
   ]
  },
  {
   "cell_type": "code",
   "execution_count": 3,
   "id": "06bdec9b-4fb1-448e-b8fa-6436e1302a9f",
   "metadata": {},
   "outputs": [
    {
     "name": "stdout",
     "output_type": "stream",
     "text": [
      "-------------------\n",
      "Initialized Dropbox\n",
      "-------------------\n"
     ]
    }
   ],
   "source": [
    "Dropbox = dbsf.dropbox_init( dropbox_creds = dropbox_creds )"
   ]
  },
  {
   "cell_type": "code",
   "execution_count": 4,
   "id": "b5108806-0404-4387-90cf-e403d231f98b",
   "metadata": {},
   "outputs": [],
   "source": [
    "member_selector = dropbox.sharing.MemberSelector.email( \"kabbesphotography@gmail.com\" )"
   ]
  },
  {
   "cell_type": "code",
   "execution_count": 5,
   "id": "7ccdfeea-f7fe-49fd-b78a-382cc9accef6",
   "metadata": {},
   "outputs": [
    {
     "name": "stdout",
     "output_type": "stream",
     "text": [
      "MemberSelector('email', 'kabbesphotography@gmail.com')\n"
     ]
    }
   ],
   "source": [
    "print ( member_selector )"
   ]
  },
  {
   "cell_type": "markdown",
   "id": "9aaa4579-4c0f-4a49-99dd-07a396b9250d",
   "metadata": {},
   "source": [
    "## Options are:\n",
    "* editor\n",
    "* viewer\n",
    "* owner\n",
    "* other"
   ]
  },
  {
   "cell_type": "code",
   "execution_count": 6,
   "id": "f0c2563b-d156-41f7-9af4-7a99011b274d",
   "metadata": {},
   "outputs": [],
   "source": [
    "add_member = dropbox.sharing.AddMember( member_selector, access_level = dropbox.sharing.AccessLevel('editor') )"
   ]
  },
  {
   "cell_type": "code",
   "execution_count": 7,
   "id": "03415762-281a-49c1-bb6b-25ba4040650c",
   "metadata": {},
   "outputs": [
    {
     "name": "stdout",
     "output_type": "stream",
     "text": [
      "AddMember(access_level=AccessLevel('editor', None), member=MemberSelector('email', 'kabbesphotography@gmail.com'))\n"
     ]
    }
   ],
   "source": [
    "print (add_member)"
   ]
  },
  {
   "cell_type": "code",
   "execution_count": 8,
   "id": "02e06ae8-633e-4cc0-9c32-8f1052d867c3",
   "metadata": {},
   "outputs": [],
   "source": [
    "members = [add_member]"
   ]
  },
  {
   "cell_type": "code",
   "execution_count": 14,
   "id": "443777cb-3e3d-48a6-a035-16a44ae9effa",
   "metadata": {},
   "outputs": [],
   "source": [
    "shared_folder = Dropbox.sharing_share_folder( '/NewFolder2' )"
   ]
  },
  {
   "cell_type": "code",
   "execution_count": 15,
   "id": "8f806f62-6fca-46e6-9c3a-a6cea0036a9b",
   "metadata": {},
   "outputs": [],
   "source": [
    "shared_folder_data = shared_folder.get_complete()"
   ]
  },
  {
   "cell_type": "code",
   "execution_count": 16,
   "id": "3cdc95f4-ec8e-469b-9c29-3fae41a88c9c",
   "metadata": {},
   "outputs": [
    {
     "data": {
      "text/plain": [
       "SharedFolderMetadata(access_inheritance=AccessInheritance('inherit', None), access_type=AccessLevel('owner', None), is_inside_team_folder=False, is_team_folder=False, link_metadata=NOT_SET, name='NewFolder2', owner_display_names=NOT_SET, owner_team=NOT_SET, parent_folder_name=NOT_SET, parent_shared_folder_id=NOT_SET, path_lower='/newfolder2', permissions=NOT_SET, policy=FolderPolicy(acl_update_policy=AclUpdatePolicy('editors', None), member_policy=NOT_SET, resolved_member_policy=NOT_SET, shared_link_policy=SharedLinkPolicy('anyone', None), viewer_info_policy=ViewerInfoPolicy('enabled', None)), preview_url='https://www.dropbox.com/scl/fo/yzn6rtepytoa0imru755j/AACC8-zWMM7W9KPyXk7DVNdca?dl=0', shared_folder_id='10092530592', time_invited=datetime.datetime(2022, 1, 11, 2, 58, 27))"
      ]
     },
     "execution_count": 16,
     "metadata": {},
     "output_type": "execute_result"
    }
   ],
   "source": [
    "shared_folder_data"
   ]
  },
  {
   "cell_type": "code",
   "execution_count": 17,
   "id": "03b63982-b66b-441c-b815-dbd97a73b406",
   "metadata": {},
   "outputs": [
    {
     "data": {
      "text/plain": [
       "'10092530592'"
      ]
     },
     "execution_count": 17,
     "metadata": {},
     "output_type": "execute_result"
    }
   ],
   "source": [
    "shared_folder_data.shared_folder_id"
   ]
  },
  {
   "cell_type": "code",
   "execution_count": 18,
   "id": "e0e1e9bd-0184-4c19-ac6e-d7f801e88ceb",
   "metadata": {},
   "outputs": [],
   "source": [
    "res = Dropbox.sharing_add_folder_member( shared_folder_data.shared_folder_id, members )"
   ]
  }
 ],
 "metadata": {
  "kernelspec": {
   "display_name": "analytics",
   "language": "python",
   "name": "analytics"
  },
  "language_info": {
   "codemirror_mode": {
    "name": "ipython",
    "version": 3
   },
   "file_extension": ".py",
   "mimetype": "text/x-python",
   "name": "python",
   "nbconvert_exporter": "python",
   "pygments_lexer": "ipython3",
   "version": "3.9.7"
  }
 },
 "nbformat": 4,
 "nbformat_minor": 5
}
